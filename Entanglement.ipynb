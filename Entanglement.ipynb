{
  "cells": [
    {
      "cell_type": "code",
      "execution_count": 1,
      "metadata": {},
      "outputs": [
        {
          "data": {
            "application/x-qsharp-data": "\"\"",
            "text/plain": []
          },
          "metadata": {
            "application/x-qsharp-data": {},
            "text/plain": {}
          },
          "output_type": "display_data"
        },
        {
          "name": "stdout",
          "output_type": "stream",
          "text": [
            "Authenticated using Azure.Identity.AzureCliCredential\n",
            "\n",
            "\n",
            "Connected to Azure Quantum workspace iQuHack2023-workspace in location eastus.\n"
          ]
        },
        {
          "data": {
            "application/x-qsharp-data": "[{\"id\":\"ionq.qpu\",\"current_availability\":{},\"average_queue_time\":162189},{\"id\":\"ionq.qpu.aria-1\",\"current_availability\":{},\"average_queue_time\":108582},{\"id\":\"ionq.simulator\",\"current_availability\":{},\"average_queue_time\":2},{\"id\":\"microsoft.estimator\",\"current_availability\":{},\"average_queue_time\":0},{\"id\":\"quantinuum.hqs-lt-s1\",\"current_availability\":{},\"average_queue_time\":172805},{\"id\":\"quantinuum.hqs-lt-s1-apival\",\"current_availability\":{},\"average_queue_time\":2},{\"id\":\"quantinuum.hqs-lt-s2\",\"current_availability\":{},\"average_queue_time\":0},{\"id\":\"quantinuum.hqs-lt-s2-apival\",\"current_availability\":{},\"average_queue_time\":0},{\"id\":\"quantinuum.hqs-lt-s1-sim\",\"current_availability\":{},\"average_queue_time\":453},{\"id\":\"quantinuum.hqs-lt-s2-sim\",\"current_availability\":{},\"average_queue_time\":150},{\"id\":\"quantinuum.hqs-lt\",\"current_availability\":{},\"average_queue_time\":0},{\"id\":\"quantinuum.qpu.h1-1\",\"current_availability\":{},\"average_queue_time\":172805},{\"id\":\"quantinuum.sim.h1-1sc\",\"current_availability\":{},\"average_queue_time\":2},{\"id\":\"quantinuum.qpu.h1-2\",\"current_availability\":{},\"average_queue_time\":0},{\"id\":\"quantinuum.sim.h1-2sc\",\"current_availability\":{},\"average_queue_time\":0},{\"id\":\"quantinuum.sim.h1-1e\",\"current_availability\":{},\"average_queue_time\":453},{\"id\":\"quantinuum.sim.h1-2e\",\"current_availability\":{},\"average_queue_time\":150},{\"id\":\"quantinuum.qpu.h1\",\"current_availability\":{},\"average_queue_time\":0},{\"id\":\"rigetti.sim.qvm\",\"current_availability\":{},\"average_queue_time\":5},{\"id\":\"rigetti.qpu.aspen-11\",\"current_availability\":{},\"average_queue_time\":0},{\"id\":\"rigetti.qpu.aspen-m-2\",\"current_availability\":{},\"average_queue_time\":5},{\"id\":\"rigetti.qpu.aspen-m-3\",\"current_availability\":{},\"average_queue_time\":5}]",
            "text/html": [
              "<table><thead><tr><th style=\"text-align: start;\">Target ID</th><th style=\"text-align: start;\">Current Availability</th><th style=\"text-align: start;\">Average Queue Time (Seconds)</th></tr></thead><tbody><tr><td style=\"text-align: start;\">ionq.qpu</td><td style=\"text-align: start;\">Available</td><td style=\"text-align: start;\">162189</td></tr><tr><td style=\"text-align: start;\">ionq.qpu.aria-1</td><td style=\"text-align: start;\">Available</td><td style=\"text-align: start;\">108582</td></tr><tr><td style=\"text-align: start;\">ionq.simulator</td><td style=\"text-align: start;\">Available</td><td style=\"text-align: start;\">2</td></tr><tr><td style=\"text-align: start;\">microsoft.estimator</td><td style=\"text-align: start;\">Available</td><td style=\"text-align: start;\">0</td></tr><tr><td style=\"text-align: start;\">quantinuum.hqs-lt-s1</td><td style=\"text-align: start;\">Available</td><td style=\"text-align: start;\">172805</td></tr><tr><td style=\"text-align: start;\">quantinuum.hqs-lt-s1-apival</td><td style=\"text-align: start;\">Available</td><td style=\"text-align: start;\">2</td></tr><tr><td style=\"text-align: start;\">quantinuum.hqs-lt-s2</td><td style=\"text-align: start;\">Unavailable</td><td style=\"text-align: start;\">0</td></tr><tr><td style=\"text-align: start;\">quantinuum.hqs-lt-s2-apival</td><td style=\"text-align: start;\">Available</td><td style=\"text-align: start;\">0</td></tr><tr><td style=\"text-align: start;\">quantinuum.hqs-lt-s1-sim</td><td style=\"text-align: start;\">Available</td><td style=\"text-align: start;\">453</td></tr><tr><td style=\"text-align: start;\">quantinuum.hqs-lt-s2-sim</td><td style=\"text-align: start;\">Available</td><td style=\"text-align: start;\">150</td></tr><tr><td style=\"text-align: start;\">quantinuum.hqs-lt</td><td style=\"text-align: start;\">Available</td><td style=\"text-align: start;\">0</td></tr><tr><td style=\"text-align: start;\">quantinuum.qpu.h1-1</td><td style=\"text-align: start;\">Available</td><td style=\"text-align: start;\">172805</td></tr><tr><td style=\"text-align: start;\">quantinuum.sim.h1-1sc</td><td style=\"text-align: start;\">Available</td><td style=\"text-align: start;\">2</td></tr><tr><td style=\"text-align: start;\">quantinuum.qpu.h1-2</td><td style=\"text-align: start;\">Unavailable</td><td style=\"text-align: start;\">0</td></tr><tr><td style=\"text-align: start;\">quantinuum.sim.h1-2sc</td><td style=\"text-align: start;\">Available</td><td style=\"text-align: start;\">0</td></tr><tr><td style=\"text-align: start;\">quantinuum.sim.h1-1e</td><td style=\"text-align: start;\">Available</td><td style=\"text-align: start;\">453</td></tr><tr><td style=\"text-align: start;\">quantinuum.sim.h1-2e</td><td style=\"text-align: start;\">Available</td><td style=\"text-align: start;\">150</td></tr><tr><td style=\"text-align: start;\">quantinuum.qpu.h1</td><td style=\"text-align: start;\">Unavailable</td><td style=\"text-align: start;\">0</td></tr><tr><td style=\"text-align: start;\">rigetti.sim.qvm</td><td style=\"text-align: start;\">Available</td><td style=\"text-align: start;\">5</td></tr><tr><td style=\"text-align: start;\">rigetti.qpu.aspen-11</td><td style=\"text-align: start;\">Unavailable</td><td style=\"text-align: start;\">0</td></tr><tr><td style=\"text-align: start;\">rigetti.qpu.aspen-m-2</td><td style=\"text-align: start;\">Available</td><td style=\"text-align: start;\">5</td></tr><tr><td style=\"text-align: start;\">rigetti.qpu.aspen-m-3</td><td style=\"text-align: start;\">Available</td><td style=\"text-align: start;\">5</td></tr></tbody></table>"
            ],
            "text/plain": [
              "Target ID                   Current Availability Average Queue Time (Seconds)\n",
              "--------------------------- ----------- ------\n",
              "ionq.qpu                    Available   162189\n",
              "ionq.qpu.aria-1             Available   108582\n",
              "ionq.simulator              Available   2\n",
              "microsoft.estimator         Available   0\n",
              "quantinuum.hqs-lt-s1        Available   172805\n",
              "quantinuum.hqs-lt-s1-apival Available   2\n",
              "quantinuum.hqs-lt-s2        Unavailable 0\n",
              "quantinuum.hqs-lt-s2-apival Available   0\n",
              "quantinuum.hqs-lt-s1-sim    Available   453\n",
              "quantinuum.hqs-lt-s2-sim    Available   150\n",
              "quantinuum.hqs-lt           Available   0\n",
              "quantinuum.qpu.h1-1         Available   172805\n",
              "quantinuum.sim.h1-1sc       Available   2\n",
              "quantinuum.qpu.h1-2         Unavailable 0\n",
              "quantinuum.sim.h1-2sc       Available   0\n",
              "quantinuum.sim.h1-1e        Available   453\n",
              "quantinuum.sim.h1-2e        Available   150\n",
              "quantinuum.qpu.h1           Unavailable 0\n",
              "rigetti.sim.qvm             Available   5\n",
              "rigetti.qpu.aspen-11        Unavailable 0\n",
              "rigetti.qpu.aspen-m-2       Available   5\n",
              "rigetti.qpu.aspen-m-3       Available   5\n"
            ]
          },
          "execution_count": 1,
          "metadata": {
            "application/x-qsharp-data": {},
            "text/html": {},
            "text/plain": {}
          },
          "output_type": "execute_result"
        }
      ],
      "source": [
        "%azure.connect \"/subscriptions/edd613b3-8845-4654-ab8a-43c1712ec7ce/resourceGroups/AzureQuantum/providers/Microsoft.Quantum/Workspaces/iQuHack2023-workspace\" location=\"eastus\""
      ]
    },
    {
      "cell_type": "code",
      "execution_count": 2,
      "metadata": {
        "jupyter": {
          "outputs_hidden": false,
          "source_hidden": false
        },
        "nteract": {
          "transient": {
            "deleting": false
          }
        }
      },
      "outputs": [
        {
          "data": {
            "application/x-qsharp-data": "[\"SetQubitState\"]",
            "text/html": [
              "<ul><li>SetQubitState</li></ul>"
            ],
            "text/plain": [
              "SetQubitState"
            ]
          },
          "execution_count": 2,
          "metadata": {
            "application/x-qsharp-data": {},
            "text/html": {},
            "text/plain": {}
          },
          "output_type": "execute_result"
        }
      ],
      "source": [
        "operation SetQubitState(desired : Result, target : Qubit) : Unit {\n",
        "    if desired != M(target) {\n",
        "        X(target);\n",
        "    }\n",
        "}"
      ]
    },
    {
      "cell_type": "code",
      "execution_count": 3,
      "metadata": {
        "jupyter": {
          "outputs_hidden": false,
          "source_hidden": false
        },
        "nteract": {
          "transient": {
            "deleting": false
          }
        }
      },
      "outputs": [
        {
          "data": {
            "application/x-qsharp-data": "[\"TestBellState\"]",
            "text/html": [
              "<ul><li>TestBellState</li></ul>"
            ],
            "text/plain": [
              "TestBellState"
            ]
          },
          "execution_count": 3,
          "metadata": {
            "application/x-qsharp-data": {},
            "text/html": {},
            "text/plain": {}
          },
          "output_type": "execute_result"
        }
      ],
      "source": [
        "operation TestBellState(count : Int, initial : Result) : (Int, Int, Int, Int) {\n",
        "    mutable numOnesQ1 = 0;\n",
        "    mutable numOnesQ2 = 0;\n",
        "\n",
        "    // allocate the qubits\n",
        "    use (q1, q2) = (Qubit(), Qubit());   \n",
        "    for test in 1..count {\n",
        "        SetQubitState(initial, q1);\n",
        "        SetQubitState(Zero, q2);\n",
        "\n",
        "        H(q1);                // Add the H operation after initialization and before measurement\n",
        "        // CNOT(q1, q2);                   // added CNOT operation\n",
        "        Controlled X([q1], q2);                   // added CONTROLLED-X operation\n",
        "        \n",
        "        // measure each qubit\n",
        "        let resultQ1 = M(q1);            \n",
        "        let resultQ2 = M(q2);           \n",
        "\n",
        "        // Count the number of 'Ones':\n",
        "        if resultQ1 == One {\n",
        "            set numOnesQ1 += 1;\n",
        "        }\n",
        "        if resultQ2 == One {\n",
        "            set numOnesQ2 += 1;\n",
        "        }\n",
        "    }\n",
        "\n",
        "    // reset the qubits\n",
        "    SetQubitState(Zero, q1);             \n",
        "    SetQubitState(Zero, q2);\n",
        "    \n",
        "\n",
        "    // Return number of |0> states, number of |1> states\n",
        "    Message(\"q1:Zero, One  q2:Zero, One\");\n",
        "    return (count - numOnesQ1, numOnesQ1, count - numOnesQ2, numOnesQ2 );\n",
        "\n",
        "}"
      ]
    },
    {
      "cell_type": "code",
      "execution_count": 6,
      "metadata": {
        "jupyter": {
          "outputs_hidden": false,
          "source_hidden": false
        },
        "nteract": {
          "transient": {
            "deleting": false
          }
        }
      },
      "outputs": [
        {
          "name": "stdout",
          "output_type": "stream",
          "text": [
            "q1:Zero, One  q2:Zero, One\n"
          ]
        },
        {
          "data": {
            "application/x-qsharp-data": "{\"@type\":\"@tuple\",\"Item1\":502,\"Item2\":498,\"Item3\":502,\"Item4\":498}",
            "text/plain": [
              "(502, 498, 502, 498)"
            ]
          },
          "execution_count": 6,
          "metadata": {
            "application/x-qsharp-data": {},
            "text/plain": {}
          },
          "output_type": "execute_result"
        }
      ],
      "source": [
        "%simulate TestBellState count=1000 initial=1"
      ]
    },
    {
      "cell_type": "code",
      "execution_count": 7,
      "metadata": {
        "jupyter": {
          "outputs_hidden": false,
          "source_hidden": false
        },
        "nteract": {
          "transient": {
            "deleting": false
          }
        }
      },
      "outputs": [
        {
          "name": "stdout",
          "output_type": "stream",
          "text": [
            "q1:Zero, One  q2:Zero, One\n"
          ]
        },
        {
          "data": {
            "application/x-qsharp-data": "{\"@type\":\"@tuple\",\"Item1\":516,\"Item2\":484,\"Item3\":516,\"Item4\":484}",
            "text/plain": [
              "(516, 484, 516, 484)"
            ]
          },
          "execution_count": 7,
          "metadata": {
            "application/x-qsharp-data": {},
            "text/plain": {}
          },
          "output_type": "execute_result"
        }
      ],
      "source": [
        "%simulate TestBellState count=1000 initial=0"
      ]
    },
    {
      "cell_type": "code",
      "execution_count": null,
      "metadata": {
        "jupyter": {
          "outputs_hidden": false,
          "source_hidden": false
        },
        "nteract": {
          "transient": {
            "deleting": false
          }
        }
      },
      "outputs": [],
      "source": []
    }
  ],
  "metadata": {
    "kernel_info": {
      "name": "iqsharp"
    },
    "kernelspec": {
      "display_name": "Q#",
      "language": "qsharp",
      "name": "iqsharp"
    },
    "language_info": {
      "file_extension": ".qs",
      "mimetype": "text/x-qsharp",
      "name": "qsharp",
      "version": "0.27"
    },
    "nteract": {
      "version": "nteract-front-end@1.0.0"
    }
  },
  "nbformat": 4,
  "nbformat_minor": 0
}
