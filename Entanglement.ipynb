{
  "cells": [
    {
      "cell_type": "code",
      "source": [
        "%azure.connect \"/subscriptions/edd613b3-8845-4654-ab8a-43c1712ec7ce/resourceGroups/AzureQuantum/providers/Microsoft.Quantum/Workspaces/iQuHack2023-workspace\" location=\"eastus\"\n"
      ],
      "outputs": [
        {
          "output_type": "display_data",
          "data": {
            "text/plain": "",
            "application/x-qsharp-data": "\"\""
          },
          "metadata": {
            "text/plain": {},
            "application/x-qsharp-data": {}
          }
        },
        {
          "output_type": "stream",
          "name": "stdout",
          "text": "Authenticated using Microsoft.Azure.Quantum.Authentication.TokenFileCredential\n\n\nConnected to Azure Quantum workspace iQuHack2023-workspace in location eastus.\n"
        },
        {
          "output_type": "execute_result",
          "execution_count": 1,
          "data": {
            "text/plain": "Target ID                   Current Availability Average Queue Time (Seconds)\n--------------------------- ----------- ------\nionq.qpu                    Available   152961\nionq.qpu.aria-1             Available   100067\nionq.simulator              Available   2\nmicrosoft.estimator         Available   0\nquantinuum.hqs-lt-s1        Available   180906\nquantinuum.hqs-lt-s1-apival Available   1\nquantinuum.hqs-lt-s2        Unavailable 0\nquantinuum.hqs-lt-s2-apival Available   0\nquantinuum.hqs-lt-s1-sim    Available   498\nquantinuum.hqs-lt-s2-sim    Available   152\nquantinuum.hqs-lt           Available   0\nquantinuum.qpu.h1-1         Available   180906\nquantinuum.sim.h1-1sc       Available   1\nquantinuum.qpu.h1-2         Unavailable 0\nquantinuum.sim.h1-2sc       Available   0\nquantinuum.sim.h1-1e        Available   498\nquantinuum.sim.h1-2e        Available   152\nquantinuum.qpu.h1           Unavailable 0\nrigetti.sim.qvm             Available   5\nrigetti.qpu.aspen-11        Unavailable 0\nrigetti.qpu.aspen-m-2       Available   5\nrigetti.qpu.aspen-m-3       Available   5\n",
            "text/html": "<table><thead><tr><th style=\"text-align: start;\">Target ID</th><th style=\"text-align: start;\">Current Availability</th><th style=\"text-align: start;\">Average Queue Time (Seconds)</th></tr></thead><tbody><tr><td style=\"text-align: start;\">ionq.qpu</td><td style=\"text-align: start;\">Available</td><td style=\"text-align: start;\">152961</td></tr><tr><td style=\"text-align: start;\">ionq.qpu.aria-1</td><td style=\"text-align: start;\">Available</td><td style=\"text-align: start;\">100067</td></tr><tr><td style=\"text-align: start;\">ionq.simulator</td><td style=\"text-align: start;\">Available</td><td style=\"text-align: start;\">2</td></tr><tr><td style=\"text-align: start;\">microsoft.estimator</td><td style=\"text-align: start;\">Available</td><td style=\"text-align: start;\">0</td></tr><tr><td style=\"text-align: start;\">quantinuum.hqs-lt-s1</td><td style=\"text-align: start;\">Available</td><td style=\"text-align: start;\">180906</td></tr><tr><td style=\"text-align: start;\">quantinuum.hqs-lt-s1-apival</td><td style=\"text-align: start;\">Available</td><td style=\"text-align: start;\">1</td></tr><tr><td style=\"text-align: start;\">quantinuum.hqs-lt-s2</td><td style=\"text-align: start;\">Unavailable</td><td style=\"text-align: start;\">0</td></tr><tr><td style=\"text-align: start;\">quantinuum.hqs-lt-s2-apival</td><td style=\"text-align: start;\">Available</td><td style=\"text-align: start;\">0</td></tr><tr><td style=\"text-align: start;\">quantinuum.hqs-lt-s1-sim</td><td style=\"text-align: start;\">Available</td><td style=\"text-align: start;\">498</td></tr><tr><td style=\"text-align: start;\">quantinuum.hqs-lt-s2-sim</td><td style=\"text-align: start;\">Available</td><td style=\"text-align: start;\">152</td></tr><tr><td style=\"text-align: start;\">quantinuum.hqs-lt</td><td style=\"text-align: start;\">Available</td><td style=\"text-align: start;\">0</td></tr><tr><td style=\"text-align: start;\">quantinuum.qpu.h1-1</td><td style=\"text-align: start;\">Available</td><td style=\"text-align: start;\">180906</td></tr><tr><td style=\"text-align: start;\">quantinuum.sim.h1-1sc</td><td style=\"text-align: start;\">Available</td><td style=\"text-align: start;\">1</td></tr><tr><td style=\"text-align: start;\">quantinuum.qpu.h1-2</td><td style=\"text-align: start;\">Unavailable</td><td style=\"text-align: start;\">0</td></tr><tr><td style=\"text-align: start;\">quantinuum.sim.h1-2sc</td><td style=\"text-align: start;\">Available</td><td style=\"text-align: start;\">0</td></tr><tr><td style=\"text-align: start;\">quantinuum.sim.h1-1e</td><td style=\"text-align: start;\">Available</td><td style=\"text-align: start;\">498</td></tr><tr><td style=\"text-align: start;\">quantinuum.sim.h1-2e</td><td style=\"text-align: start;\">Available</td><td style=\"text-align: start;\">152</td></tr><tr><td style=\"text-align: start;\">quantinuum.qpu.h1</td><td style=\"text-align: start;\">Unavailable</td><td style=\"text-align: start;\">0</td></tr><tr><td style=\"text-align: start;\">rigetti.sim.qvm</td><td style=\"text-align: start;\">Available</td><td style=\"text-align: start;\">5</td></tr><tr><td style=\"text-align: start;\">rigetti.qpu.aspen-11</td><td style=\"text-align: start;\">Unavailable</td><td style=\"text-align: start;\">0</td></tr><tr><td style=\"text-align: start;\">rigetti.qpu.aspen-m-2</td><td style=\"text-align: start;\">Available</td><td style=\"text-align: start;\">5</td></tr><tr><td style=\"text-align: start;\">rigetti.qpu.aspen-m-3</td><td style=\"text-align: start;\">Available</td><td style=\"text-align: start;\">5</td></tr></tbody></table>",
            "application/x-qsharp-data": "[{\"id\":\"ionq.qpu\",\"current_availability\":{},\"average_queue_time\":152961},{\"id\":\"ionq.qpu.aria-1\",\"current_availability\":{},\"average_queue_time\":100067},{\"id\":\"ionq.simulator\",\"current_availability\":{},\"average_queue_time\":2},{\"id\":\"microsoft.estimator\",\"current_availability\":{},\"average_queue_time\":0},{\"id\":\"quantinuum.hqs-lt-s1\",\"current_availability\":{},\"average_queue_time\":180906},{\"id\":\"quantinuum.hqs-lt-s1-apival\",\"current_availability\":{},\"average_queue_time\":1},{\"id\":\"quantinuum.hqs-lt-s2\",\"current_availability\":{},\"average_queue_time\":0},{\"id\":\"quantinuum.hqs-lt-s2-apival\",\"current_availability\":{},\"average_queue_time\":0},{\"id\":\"quantinuum.hqs-lt-s1-sim\",\"current_availability\":{},\"average_queue_time\":498},{\"id\":\"quantinuum.hqs-lt-s2-sim\",\"current_availability\":{},\"average_queue_time\":152},{\"id\":\"quantinuum.hqs-lt\",\"current_availability\":{},\"average_queue_time\":0},{\"id\":\"quantinuum.qpu.h1-1\",\"current_availability\":{},\"average_queue_time\":180906},{\"id\":\"quantinuum.sim.h1-1sc\",\"current_availability\":{},\"average_queue_time\":1},{\"id\":\"quantinuum.qpu.h1-2\",\"current_availability\":{},\"average_queue_time\":0},{\"id\":\"quantinuum.sim.h1-2sc\",\"current_availability\":{},\"average_queue_time\":0},{\"id\":\"quantinuum.sim.h1-1e\",\"current_availability\":{},\"average_queue_time\":498},{\"id\":\"quantinuum.sim.h1-2e\",\"current_availability\":{},\"average_queue_time\":152},{\"id\":\"quantinuum.qpu.h1\",\"current_availability\":{},\"average_queue_time\":0},{\"id\":\"rigetti.sim.qvm\",\"current_availability\":{},\"average_queue_time\":5},{\"id\":\"rigetti.qpu.aspen-11\",\"current_availability\":{},\"average_queue_time\":0},{\"id\":\"rigetti.qpu.aspen-m-2\",\"current_availability\":{},\"average_queue_time\":5},{\"id\":\"rigetti.qpu.aspen-m-3\",\"current_availability\":{},\"average_queue_time\":5}]"
          },
          "metadata": {
            "text/plain": {},
            "text/html": {},
            "application/x-qsharp-data": {}
          }
        }
      ],
      "execution_count": 1,
      "metadata": {
        "jupyter": {
          "source_hidden": false,
          "outputs_hidden": false
        },
        "nteract": {
          "transient": {
            "deleting": false
          }
        }
      }
    },
    {
      "cell_type": "code",
      "source": [
        "operation SetQubitState(desired : Result, target : Qubit) : Unit {\n",
        "    if desired != M(target) {\n",
        "        X(target);\n",
        "    }\n",
        "}"
      ],
      "outputs": [
        {
          "output_type": "execute_result",
          "execution_count": 2,
          "data": {
            "text/plain": "SetQubitState",
            "text/html": "<ul><li>SetQubitState</li></ul>",
            "application/x-qsharp-data": "[\"SetQubitState\"]"
          },
          "metadata": {
            "text/plain": {},
            "text/html": {},
            "application/x-qsharp-data": {}
          }
        }
      ],
      "execution_count": 2,
      "metadata": {
        "jupyter": {
          "source_hidden": false,
          "outputs_hidden": false
        },
        "nteract": {
          "transient": {
            "deleting": false
          }
        }
      }
    },
    {
      "cell_type": "code",
      "source": [
        "operation TestBellState(count : Int, initial : Result) : (Int, Int, Int, Int) {\n",
        "    mutable numOnesQ1 = 0;\n",
        "    mutable numOnesQ2 = 0;\n",
        "\n",
        "    // allocate the qubits\n",
        "    use (q1, q2) = (Qubit(), Qubit());   \n",
        "    for test in 1..count {\n",
        "        SetQubitState(initial, q1);\n",
        "        SetQubitState(Zero, q2);\n",
        "\n",
        "        H(q1);                // Add the H operation after initialization and before measurement\n",
        "        // CNOT(q1, q2);                   // added CNOT operation\n",
        "        Controlled X([q1], q2);                   // added CONTROLLED-X operation\n",
        "        \n",
        "        // measure each qubit\n",
        "        let resultQ1 = M(q1);            \n",
        "        let resultQ2 = M(q2);           \n",
        "\n",
        "        // Count the number of 'Ones':\n",
        "        if resultQ1 == One {\n",
        "            set numOnesQ1 += 1;\n",
        "        }\n",
        "        if resultQ2 == One {\n",
        "            set numOnesQ2 += 1;\n",
        "        }\n",
        "    }\n",
        "\n",
        "    // reset the qubits\n",
        "    SetQubitState(Zero, q1);             \n",
        "    SetQubitState(Zero, q2);\n",
        "    \n",
        "\n",
        "    // Return number of |0> states, number of |1> states\n",
        "    Message(\"q1:Zero, One  q2:Zero, One\");\n",
        "    return (count - numOnesQ1, numOnesQ1, count - numOnesQ2, numOnesQ2 );\n",
        "\n",
        "}"
      ],
      "outputs": [
        {
          "output_type": "execute_result",
          "execution_count": 12,
          "data": {
            "text/plain": "TestBellState",
            "text/html": "<ul><li>TestBellState</li></ul>",
            "application/x-qsharp-data": "[\"TestBellState\"]"
          },
          "metadata": {
            "text/plain": {},
            "text/html": {},
            "application/x-qsharp-data": {}
          }
        }
      ],
      "execution_count": 12,
      "metadata": {
        "jupyter": {
          "source_hidden": false,
          "outputs_hidden": false
        },
        "nteract": {
          "transient": {
            "deleting": false
          }
        }
      }
    },
    {
      "cell_type": "code",
      "source": [
        "%simulate TestBellState count=1000 initial=1"
      ],
      "outputs": [
        {
          "output_type": "stream",
          "name": "stdout",
          "text": "q1:Zero, One  q2:Zero, One\n"
        },
        {
          "output_type": "execute_result",
          "execution_count": 13,
          "data": {
            "text/plain": "(499, 501, 499, 501)",
            "application/x-qsharp-data": "{\"@type\":\"@tuple\",\"Item1\":499,\"Item2\":501,\"Item3\":499,\"Item4\":501}"
          },
          "metadata": {
            "text/plain": {},
            "application/x-qsharp-data": {}
          }
        }
      ],
      "execution_count": 13,
      "metadata": {
        "jupyter": {
          "source_hidden": false,
          "outputs_hidden": false
        },
        "nteract": {
          "transient": {
            "deleting": false
          }
        }
      }
    },
    {
      "cell_type": "code",
      "source": [
        "%simulate TestBellState count=1000 initial=0"
      ],
      "outputs": [
        {
          "output_type": "stream",
          "name": "stdout",
          "text": "q1:Zero, One  q2:Zero, One\n"
        },
        {
          "output_type": "execute_result",
          "execution_count": 14,
          "data": {
            "text/plain": "(468, 532, 468, 532)",
            "application/x-qsharp-data": "{\"@type\":\"@tuple\",\"Item1\":468,\"Item2\":532,\"Item3\":468,\"Item4\":532}"
          },
          "metadata": {
            "text/plain": {},
            "application/x-qsharp-data": {}
          }
        }
      ],
      "execution_count": 14,
      "metadata": {
        "jupyter": {
          "source_hidden": false,
          "outputs_hidden": false
        },
        "nteract": {
          "transient": {
            "deleting": false
          }
        }
      }
    },
    {
      "cell_type": "code",
      "source": [],
      "outputs": [],
      "execution_count": null,
      "metadata": {
        "jupyter": {
          "source_hidden": false,
          "outputs_hidden": false
        },
        "nteract": {
          "transient": {
            "deleting": false
          }
        }
      }
    }
  ],
  "metadata": {
    "language_info": {
      "name": "qsharp",
      "version": "0.27",
      "mimetype": "text/x-qsharp",
      "file_extension": ".qs"
    },
    "kernelspec": {
      "name": "iqsharp",
      "language": "qsharp",
      "display_name": "Q#"
    },
    "kernel_info": {
      "name": "iqsharp"
    },
    "nteract": {
      "version": "nteract-front-end@1.0.0"
    }
  },
  "nbformat": 4,
  "nbformat_minor": 0
}